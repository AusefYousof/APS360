{
  "nbformat": 4,
  "nbformat_minor": 0,
  "metadata": {
    "colab": {
      "provenance": [],
      "gpuType": "T4"
    },
    "kernelspec": {
      "name": "python3",
      "display_name": "Python 3"
    },
    "language_info": {
      "name": "python"
    },
    "accelerator": "GPU"
  },
  "cells": [
    {
      "cell_type": "code",
      "execution_count": null,
      "metadata": {
        "id": "-a7-kMxDJSLj"
      },
      "outputs": [],
      "source": [
        "#Load essential tools for project\n",
        "import time\n",
        "import os\n",
        "import shutil\n",
        "import numpy as np\n",
        "import torch\n",
        "\n",
        "import torchvision\n",
        "from torchvision import datasets, models, transforms\n",
        "import matplotlib.pyplot as plt\n",
        "\n",
        "import torch.nn as nn\n",
        "import torch.nn.functional as F\n",
        "import torch.optim as optim\n",
        "\n",
        "from torch.utils.data.sampler import SubsetRandomSampler\n",
        "import torchvision.transforms as transforms\n",
        "\n",
        "import torch.utils.data as data\n",
        "from torchvision.datasets import ImageFolder\n",
        "from PIL import Image\n",
        "\n",
        "use_cuda = True\n"
      ]
    },
    {
      "cell_type": "code",
      "source": [
        "#Mount google drive\n",
        "from google.colab import drive\n",
        "drive.mount('/content/drive')"
      ],
      "metadata": {
        "colab": {
          "base_uri": "https://localhost:8080/"
        },
        "id": "YWmZwLHkBw6Y",
        "outputId": "fa3f4fc4-bd42-40fc-e931-4175474cec14"
      },
      "execution_count": null,
      "outputs": [
        {
          "output_type": "stream",
          "name": "stdout",
          "text": [
            "Mounted at /content/drive\n"
          ]
        }
      ]
    },
    {
      "cell_type": "markdown",
      "source": [
        "For the project report, we want to focus on making sure we can produce a solid classification accuracy for our dataset. So currently, we are limiting our scope to taking inputs of 224x224 images where the sign is centered, this is a part of our data cleaning and processing process and is demonstrated in our transformations section of the code.\n"
      ],
      "metadata": {
        "id": "Mu9NzI-P_iqG"
      }
    },
    {
      "cell_type": "code",
      "source": [
        "#set up our transforms\n",
        "transform = transforms.Compose(\n",
        "        [transforms.ToTensor(), #maniputable tensor structure\n",
        "         transforms.Normalize((0.5, 0.5, 0.5), (0.5, 0.5, 0.5)),\n",
        "         #normalize to [-1,1] for each pixel for faster processing\n",
        "         transforms.Lambda(lambda x: x[:3]),\n",
        "        transforms.CenterCrop(224),\n",
        "         transforms.Resize((224, 224))]) #crop to 224x224\n",
        "\n",
        "\n",
        "#load the data with imagefolder\n",
        "train_dataset = torchvision.datasets.ImageFolder('/content/drive/MyDrive/APS360 Project/Data/train',\n",
        "\n",
        "                                                 transform=transform)\n",
        "\n",
        "val_dataset = torchvision.datasets.ImageFolder('/content/drive/MyDrive/APS360 Project/Data/val',\n",
        "\n",
        "                                               transform=transform)\n",
        "\n",
        "\n",
        "\n",
        "test_dataset = torchvision.datasets.ImageFolder('/content/drive/MyDrive/APS360 Project/Data/test',\n",
        "\n",
        "                                                transform=transform)\n"
      ],
      "metadata": {
        "id": "UIoPw1GbAgPK"
      },
      "execution_count": null,
      "outputs": []
    },
    {
      "cell_type": "markdown",
      "source": [
        "The following code prints our data distribution, as we aim for a 80%-10%-10% spread for training, validation, and testing data respectively"
      ],
      "metadata": {
        "id": "e6aYqAjNHaH5"
      }
    },
    {
      "cell_type": "code",
      "source": [
        "total_data = len(train_dataset) + len(val_dataset) + len(test_dataset)\n",
        "\n",
        "print(\"Training data makes up\", round(len(train_dataset)/total_data*100,2), \"% of all data.\")\n",
        "print(\"Validation data makes up\", round(len(val_dataset)/total_data*100,2), \"% of all data.\")\n",
        "print(\"Test data makes up\", round(len(test_dataset)/total_data*100,2), \"% of all data.\")"
      ],
      "metadata": {
        "id": "CFHhXq88HlpK",
        "colab": {
          "base_uri": "https://localhost:8080/"
        },
        "outputId": "4375c100-e9e2-4410-e56e-01082dcb4b64"
      },
      "execution_count": null,
      "outputs": [
        {
          "output_type": "stream",
          "name": "stdout",
          "text": [
            "Training data makes up 75.0 % of all data.\n",
            "Validation data makes up 12.5 % of all data.\n",
            "Test data makes up 12.5 % of all data.\n"
          ]
        }
      ]
    },
    {
      "cell_type": "markdown",
      "source": [
        "To realize our model, we intend to use the prexisting AlexNet, a neural network which is adept at classification techniques and that of which the team has much experience working with from past labs. We define our classes, load our data, and save our features in the code below"
      ],
      "metadata": {
        "id": "4J00JpyTGopb"
      }
    },
    {
      "cell_type": "code",
      "source": [
        "import torchvision.models\n",
        "alexnet = torchvision.models.alexnet(pretrained=True)"
      ],
      "metadata": {
        "id": "6mmfq1JhHUeR",
        "colab": {
          "base_uri": "https://localhost:8080/"
        },
        "outputId": "aefb9864-ef97-4d65-d0f4-dad159644fde"
      },
      "execution_count": null,
      "outputs": [
        {
          "output_type": "stream",
          "name": "stderr",
          "text": [
            "/usr/local/lib/python3.10/dist-packages/torchvision/models/_utils.py:208: UserWarning: The parameter 'pretrained' is deprecated since 0.13 and may be removed in the future, please use 'weights' instead.\n",
            "  warnings.warn(\n",
            "/usr/local/lib/python3.10/dist-packages/torchvision/models/_utils.py:223: UserWarning: Arguments other than a weight enum or `None` for 'weights' are deprecated since 0.13 and may be removed in the future. The current behavior is equivalent to passing `weights=AlexNet_Weights.IMAGENET1K_V1`. You can also use `weights=AlexNet_Weights.DEFAULT` to get the most up-to-date weights.\n",
            "  warnings.warn(msg)\n",
            "Downloading: \"https://download.pytorch.org/models/alexnet-owt-7be5be79.pth\" to /root/.cache/torch/hub/checkpoints/alexnet-owt-7be5be79.pth\n",
            "100%|██████████| 233M/233M [00:02<00:00, 88.5MB/s]\n"
          ]
        }
      ]
    },
    {
      "cell_type": "code",
      "source": [
        "!mkdir ./AlexNet\n",
        "!mkdir ./AlexNet/Features\n",
        "!mkdir ./AlexNet/Features/train\n",
        "!mkdir ./AlexNet/Features/val\n",
        "!mkdir ./AlexNet/Features/test\n",
        "\n",
        "!mkdir ./AlexNet/Features/train/TRAFFICSIGNAL\n",
        "!mkdir ./AlexNet/Features/train/STOP\n",
        "!mkdir ./AlexNet/Features/train/PEDESTRIAN\n",
        "!mkdir ./AlexNet/Features/train/KEEPRIGHT\n",
        "!mkdir ./AlexNet/Features/train/SPEED40\n",
        "!mkdir ./AlexNet/Features/train/SPEED60\n",
        "\n",
        "\n",
        "!mkdir ./AlexNet/Features/val/TRAFFICSIGNAL\n",
        "!mkdir ./AlexNet/Features/val/STOP\n",
        "!mkdir ./AlexNet/Features/val/PEDESTRIAN\n",
        "!mkdir ./AlexNet/Features/val/KEEPRIGHT\n",
        "!mkdir ./AlexNet/Features/val/SPEED60\n",
        "!mkdir ./AlexNet/Features/val/SPEED40\n",
        "\n",
        "\n",
        "\n",
        "!mkdir ./AlexNet/Features/test/SPEED40\n",
        "!mkdir ./AlexNet/Features/test/SPEED60\n",
        "!mkdir ./AlexNet/Features/test/TRAFFICSIGNAL\n",
        "!mkdir ./AlexNet/Features/test/STOP\n",
        "!mkdir ./AlexNet/Features/test/PEDESTRIAN\n",
        "!mkdir ./AlexNet/Features/test/KEEPRIGHT\n",
        "\n"
      ],
      "metadata": {
        "id": "BUvuoeN_RRx_",
        "colab": {
          "base_uri": "https://localhost:8080/"
        },
        "outputId": "8d9db888-6d0b-4698-f47a-0ef6388613d6"
      },
      "execution_count": null,
      "outputs": [
        {
          "output_type": "stream",
          "name": "stdout",
          "text": [
            "mkdir: cannot create directory ‘./AlexNet’: File exists\n",
            "mkdir: cannot create directory ‘./AlexNet/Features’: File exists\n",
            "mkdir: cannot create directory ‘./AlexNet/Features/train’: File exists\n",
            "mkdir: cannot create directory ‘./AlexNet/Features/val’: File exists\n",
            "mkdir: cannot create directory ‘./AlexNet/Features/test’: File exists\n",
            "mkdir: cannot create directory ‘./AlexNet/Features/train/TRAFFICSIGNAL’: File exists\n",
            "mkdir: cannot create directory ‘./AlexNet/Features/train/STOP’: File exists\n",
            "mkdir: cannot create directory ‘./AlexNet/Features/train/PEDESTRIAN’: File exists\n",
            "mkdir: cannot create directory ‘./AlexNet/Features/train/KEEPRIGHT’: File exists\n",
            "mkdir: cannot create directory ‘./AlexNet/Features/train/SPEED40’: File exists\n",
            "mkdir: cannot create directory ‘./AlexNet/Features/train/SPEED60’: File exists\n",
            "mkdir: cannot create directory ‘./AlexNet/Features/val/TRAFFICSIGNAL’: File exists\n",
            "mkdir: cannot create directory ‘./AlexNet/Features/val/STOP’: File exists\n",
            "mkdir: cannot create directory ‘./AlexNet/Features/val/PEDESTRIAN’: File exists\n",
            "mkdir: cannot create directory ‘./AlexNet/Features/val/KEEPRIGHT’: File exists\n",
            "mkdir: cannot create directory ‘./AlexNet/Features/val/SPEED60’: File exists\n",
            "mkdir: cannot create directory ‘./AlexNet/Features/val/SPEED40’: File exists\n",
            "mkdir: cannot create directory ‘./AlexNet/Features/test/SPEED40’: File exists\n",
            "mkdir: cannot create directory ‘./AlexNet/Features/test/SPEED60’: File exists\n",
            "mkdir: cannot create directory ‘./AlexNet/Features/test/TRAFFICSIGNAL’: File exists\n",
            "mkdir: cannot create directory ‘./AlexNet/Features/test/STOP’: File exists\n",
            "mkdir: cannot create directory ‘./AlexNet/Features/test/PEDESTRIAN’: File exists\n",
            "mkdir: cannot create directory ‘./AlexNet/Features/test/KEEPRIGHT’: File exists\n"
          ]
        }
      ]
    },
    {
      "cell_type": "code",
      "source": [
        "def get_model_name(name, batch_size, learning_rate, epoch):\n",
        "    path = \"model_{0}_bs{1}_lr{2}_epoch{3}\".format(name,\n",
        "                                                   batch_size,\n",
        "                                                   learning_rate,\n",
        "                                                   epoch)\n",
        "    return path"
      ],
      "metadata": {
        "id": "w0EfKLpPjIPA"
      },
      "execution_count": null,
      "outputs": []
    },
    {
      "cell_type": "code",
      "source": [
        "#define our classes (traffic signals)\n",
        "classes = ['KEEPRIGHT', 'PEDESTRIAN', 'STOP', 'TRAFFICSIGNAL', 'SPEED40', 'SPEED60']\n",
        "\n",
        "\n",
        "#function to extract alexnet features from our data, save to folder.\n",
        "def alex_features(data):\n",
        "    if data == \"train\":\n",
        "        data_loader = torch.utils.data.DataLoader(train_dataset, batch_size=1, shuffle=True)\n",
        "    elif data == \"val\":\n",
        "        data_loader = torch.utils.data.DataLoader(val_dataset, batch_size=1, shuffle=True)\n",
        "    elif data == \"test\":\n",
        "        data_loader = torch.utils.data.DataLoader(test_dataset, batch_size=1, shuffle=True)\n",
        "    else:\n",
        "        print(\"Error, invalid dataset name\")\n",
        "        return None\n",
        "    #iterate through loaded data, save alex net features\n",
        "    n = 0\n",
        "    for imgs, labels in iter(data_loader):\n",
        "        features = alexnet.features(imgs)\n",
        "        features_tensor = torch.from_numpy(features.detach().numpy())\n",
        "        torch.save(features_tensor.squeeze(0), './AlexNet' + '/Features/' + data + '/' + classes[labels] + '/' + 'feature_bs1_' + str(n) + '.tensor')\n",
        "        n += 1"
      ],
      "metadata": {
        "id": "U4unFCtyAbBC"
      },
      "execution_count": null,
      "outputs": []
    },
    {
      "cell_type": "code",
      "source": [
        "#get our features\n",
        "alex_features(\"train\")\n",
        "alex_features(\"val\")\n",
        "alex_features(\"test\")"
      ],
      "metadata": {
        "id": "mC3oiovoPpZM"
      },
      "execution_count": null,
      "outputs": []
    },
    {
      "cell_type": "code",
      "source": [
        "!rm -R /content/AlexNet/Features/test/.ipynb_checkpoints\n",
        "!rm -R /content/AlexNet/Features/train/.ipynb_checkpoints\n",
        "!rm -R /content/AlexNet/Features/val/.ipynb_checkpoints\n"
      ],
      "metadata": {
        "colab": {
          "base_uri": "https://localhost:8080/"
        },
        "id": "tNvZNWeWHKe9",
        "outputId": "315101ed-9b34-471d-e4a7-b3551d033352"
      },
      "execution_count": null,
      "outputs": [
        {
          "output_type": "stream",
          "name": "stdout",
          "text": [
            "rm: cannot remove '/content/AlexNet/Features/test/.ipynb_checkpoints': No such file or directory\n"
          ]
        }
      ]
    },
    {
      "cell_type": "code",
      "source": [
        "#load our features\n",
        "\n",
        "train_features = torchvision.datasets.DatasetFolder('/content/AlexNet/Features/train', loader=torch.load,\n",
        "                                                    extensions=('.tensor'))\n",
        "val_features = torchvision.datasets.DatasetFolder('/content/AlexNet/Features/val', loader=torch.load,\n",
        "                                                  extensions=('.tensor'))\n",
        "test_features = torchvision.datasets.DatasetFolder('/content/AlexNet/Features/test', loader=torch.load,\n",
        "                                                   extensions=('.tensor'))\n"
      ],
      "metadata": {
        "id": "8NldycIkPvzh"
      },
      "execution_count": null,
      "outputs": []
    },
    {
      "cell_type": "code",
      "source": [
        "class AlexNet(nn.Module):\n",
        "    def __init__(self):\n",
        "        super(AlexNet, self).__init__()\n",
        "        self.name = \"AlexNet\"\n",
        "        self.conv1 = nn.Conv2d(256, 256, 5, padding=1)\n",
        "        self.pool = nn.MaxPool2d(2, 2)\n",
        "        self.fc1 = nn.Linear(256 * 2 * 2, 64)\n",
        "        self.fc2 = nn.Linear(64, 9)\n",
        "\n",
        "    def forward(self, x):\n",
        "        x = self.pool(F.relu(self.conv1(x)))\n",
        "        x = x.view(-1, 256 * 2 * 2)\n",
        "        x = F.relu(self.fc1(x))\n",
        "        x = self.fc2(x)\n",
        "        x = x.squeeze(1) # Flatten to [batch_size]\n",
        "        return x"
      ],
      "metadata": {
        "id": "5-LdtiZkP10P"
      },
      "execution_count": null,
      "outputs": []
    },
    {
      "cell_type": "markdown",
      "source": [
        "We define our training and accuracy functions below:\n"
      ],
      "metadata": {
        "id": "z21bdYrgQ2m1"
      }
    },
    {
      "cell_type": "code",
      "source": [
        "def get_accuracy_ALEX(model, batch_size, train=False):\n",
        "    if train:\n",
        "        data = train_features\n",
        "    else:\n",
        "        data = val_features\n",
        "    correct = 0\n",
        "    total = 0\n",
        "    for imgs, labels in torch.utils.data.DataLoader(data, batch_size=batch_size):\n",
        "\n",
        "\n",
        "        #############################################\n",
        "        # To Enable GPU Usage\n",
        "        if use_cuda and torch.cuda.is_available():\n",
        "          imgs = imgs.cuda()\n",
        "          labels = labels.cuda()\n",
        "        #############################################\n",
        "\n",
        "\n",
        "        output = model(imgs)\n",
        "\n",
        "        # Select index with maximum prediction score\n",
        "        pred = output.max(1, keepdim=True)[1]\n",
        "        correct += pred.eq(labels.view_as(pred)).sum().item()\n",
        "        total += imgs.shape[0]\n",
        "    return correct / total\n",
        "\n",
        "#gonna update learning rate to be a little higher (3e^-4), num epochs to 25 because\n",
        "#training takes a while, validation levels out early\n",
        "def train_ALEX(model, data, batch_size=64, learning_rate=0.05, num_epochs=25):\n",
        "    torch.manual_seed(1000)\n",
        "    train_loader = torch.utils.data.DataLoader(data, batch_size=batch_size, shuffle=True)\n",
        "    criterion = nn.CrossEntropyLoss()\n",
        "    optimizer = optim.Adam(model.parameters(), lr=learning_rate)\n",
        "\n",
        "    iters, losses, train_acc, val_acc = [], [], [], []\n",
        "\n",
        "    # Training\n",
        "    start_time = time.time()\n",
        "    n = 0 # the number of iterations\n",
        "    for epoch in range(num_epochs):\n",
        "        for imgs, labels in iter(train_loader):\n",
        "\n",
        "\n",
        "            #############################################\n",
        "            # To Enable GPU Usage\n",
        "            if use_cuda and torch.cuda.is_available():\n",
        "              imgs = imgs.cuda()\n",
        "              labels = labels.cuda()\n",
        "            #############################################\n",
        "\n",
        "\n",
        "            out = model(imgs)             # forward pass\n",
        "            loss = criterion(out, labels) # compute the total loss\n",
        "            loss.backward()               # backward pass (compute parameter updates)\n",
        "            optimizer.step()              # make the updates for each parameter\n",
        "            optimizer.zero_grad()         # a clean up step for PyTorch\n",
        "\n",
        "            # Save the current training information\n",
        "            iters.append(n)\n",
        "            losses.append(float(loss)/batch_size)             # compute *average* loss\n",
        "            n += 1\n",
        "        train_acc.append(get_accuracy_ALEX(model, batch_size=batch_size, train=True)) # compute training accuracy\n",
        "        val_acc.append(get_accuracy_ALEX(model, batch_size=batch_size, train=False))  # compute validation accuracy\n",
        "\n",
        "        # Save the current model (checkpoint) to a file\n",
        "        model_path = get_model_name(model.name, batch_size, learning_rate, epoch)\n",
        "        torch.save(model.state_dict(), model_path)\n",
        "    print('Finished Training')\n",
        "    end_time = time.time()\n",
        "    elapsed_time = end_time - start_time\n",
        "    print(\"Total time elapsed: {:.2f} seconds\".format(elapsed_time))\n",
        "\n",
        "    # Plotting\n",
        "    plt.title(\"Training Curve\")\n",
        "    plt.plot(iters, losses, label=\"Train\")\n",
        "    plt.xlabel(\"Iterations\")\n",
        "    plt.ylabel(\"Loss\")\n",
        "    plt.show()\n",
        "\n",
        "    plt.title(\"Training Curve\")\n",
        "    plt.plot(range(1 ,num_epochs+1), train_acc, label=\"Train\")\n",
        "    plt.plot(range(1 ,num_epochs+1), val_acc, label=\"Validation\")\n",
        "    plt.xlabel(\"Epochs\")\n",
        "    plt.ylabel(\"Training Accuracy\")\n",
        "    plt.legend(loc='best')\n",
        "    plt.show()\n",
        "\n",
        "    print(\"Final Training Accuracy: {}\".format(train_acc[-1]))\n",
        "    print(\"Final Validation Accuracy: {}\".format(val_acc[-1]))"
      ],
      "metadata": {
        "id": "acAaVGANQ1wt"
      },
      "execution_count": null,
      "outputs": []
    },
    {
      "cell_type": "markdown",
      "source": [
        "Currently, we have opted for a safe starting pointing for an optimizer in the ADAM optimizer. We use crossentropy loss because of the multitude of classes we have. As we progress, we will look to introduce dropout to regularize our model, data augmentation to increase our training data size and prevent overfitting, increasing the complexity of our model, and batch normalization. For now, we simply want to demonstrate a starting point for our model and the potential for increasing accuracy/success\n"
      ],
      "metadata": {
        "id": "rjimIA_XYAXI"
      }
    },
    {
      "cell_type": "markdown",
      "source": [
        "The following code blocks are training results for our model as they change with the tuning of hyperparamters. We begin with a learning rate of 3e^-4, standard for ML models, a batch size of 64, and 20 epochs.\n",
        "\n",
        "We will continue to tune the parameters, whatever is in the code is latest hyperparameters chosen"
      ],
      "metadata": {
        "id": "YItfUOHqYnNa"
      }
    },
    {
      "cell_type": "code",
      "source": [
        "alex_model = AlexNet()\n",
        "use_cuda=True\n",
        "if use_cuda and torch.cuda.is_available():\n",
        "  alex_model.cuda()\n",
        "  print('USING CUDA')\n",
        "else:\n",
        "  print('NO CUDA')\n",
        "  #best model tested actually had following parameters\n",
        "\n",
        "#first training with parameters listed above\n",
        "train_ALEX(alex_model, train_features, batch_size=128, learning_rate=0.01, num_epochs=15)"
      ],
      "metadata": {
        "id": "09Ub7f9zZIkF",
        "colab": {
          "base_uri": "https://localhost:8080/",
          "height": 1000
        },
        "outputId": "538246eb-b133-4f38-d230-7975b6b83157"
      },
      "execution_count": null,
      "outputs": [
        {
          "output_type": "stream",
          "name": "stdout",
          "text": [
            "USING CUDA\n",
            "Finished Training\n",
            "Total time elapsed: 4.15 seconds\n"
          ]
        },
        {
          "output_type": "display_data",
          "data": {
            "text/plain": [
              "<Figure size 640x480 with 1 Axes>"
            ],
            "image/png": "[encoded data removed]"
          },
          "metadata": {}
        },
        {
          "output_type": "display_data",
          "data": {
            "text/plain": [
              "<Figure size 640x480 with 1 Axes>"
            ],
            "image/png": "[encoded data removed]"
          },
          "metadata": {}
        },
        {
          "output_type": "stream",
          "name": "stdout",
          "text": [
            "Final Training Accuracy: 1.0\n",
            "Final Validation Accuracy: 0.9666666666666667\n"
          ]
        }
      ]
    },
    {
      "cell_type": "markdown",
      "source": [
        "Get our test accuracy with the following function:"
      ],
      "metadata": {
        "id": "xiLmqtFTYkVQ"
      }
    },
    {
      "cell_type": "code",
      "source": [
        "def get_accuracy_ALEX_test(model, batch_size):\n",
        "   # if train:\n",
        "      #  data = train_features\n",
        "  #  else:\n",
        "     #   data = val_features\n",
        "    data = test_features\n",
        "    correct = 0\n",
        "    total = 0\n",
        "    for imgs, labels in torch.utils.data.DataLoader(data, batch_size=batch_size):\n",
        "\n",
        "\n",
        "        #############################################\n",
        "        # To Enable GPU Usage\n",
        "        if use_cuda and torch.cuda.is_available():\n",
        "          imgs = imgs.cuda()\n",
        "          labels = labels.cuda()\n",
        "        #############################################\n",
        "\n",
        "\n",
        "        output = model(imgs)\n",
        "\n",
        "        # Select index with maximum prediction score\n",
        "        pred = output.max(1, keepdim=True)[1]\n",
        "        correct += pred.eq(labels.view_as(pred)).sum().item()\n",
        "        total += imgs.shape[0]\n",
        "    return correct / total"
      ],
      "metadata": {
        "id": "TH4Ea76LYjRT"
      },
      "execution_count": null,
      "outputs": []
    },
    {
      "cell_type": "markdown",
      "source": [
        "Lets also test a baseline model, a simple CNN network developed in labs with some tuning to get the best possible result."
      ],
      "metadata": {
        "id": "-XPwMkCDobtK"
      }
    },
    {
      "cell_type": "code",
      "source": [
        "class TR_CNN(nn.Module):\n",
        "    def __init__(self):\n",
        "        super(TR_CNN, self).__init__()\n",
        "        self.name = \"Traffic Sign CNN\"\n",
        "        self.conv1 = nn.Conv2d(3, 5, 5)\n",
        "        self.pool = nn.MaxPool2d(2, 2)\n",
        "        self.conv2 = nn.Conv2d(5, 10, 5)\n",
        "        self.fc1 = nn.Linear(10 * 53 * 53, 32)\n",
        "        self.fc2 = nn.Linear(32, 9)\n",
        "\n",
        "    def forward(self, x):\n",
        "        x = self.pool(F.relu(self.conv1(x)))\n",
        "        x = self.pool(F.relu(self.conv2(x)))\n",
        "        x = x.view(-1, 10 * 53 * 53)\n",
        "        x = F.relu(self.fc1(x))\n",
        "        x = self.fc2(x)\n",
        "        x = x.squeeze(1) # Flatten to [batch_size]\n",
        "        return x"
      ],
      "metadata": {
        "id": "OHgqXGLEomrW"
      },
      "execution_count": null,
      "outputs": []
    },
    {
      "cell_type": "markdown",
      "source": [
        "We define a few functions that are fairly straightforward and similar to our alexnet functions, for ease of implentation of the baseline"
      ],
      "metadata": {
        "id": "7GXo79PloyoH"
      }
    },
    {
      "cell_type": "code",
      "source": [
        "use_cuda = True\n",
        "def get_accuracy(model, batch_size, train=False):\n",
        "    if train:\n",
        "        data = train_dataset\n",
        "    else:\n",
        "        data = val_dataset\n",
        "    correct = 0\n",
        "    total = 0\n",
        "    for imgs, labels in torch.utils.data.DataLoader(data, batch_size=batch_size):\n",
        "\n",
        "\n",
        "        #############################################\n",
        "        # To Enable GPU Usage\n",
        "        if use_cuda and torch.cuda.is_available():\n",
        "          imgs = imgs.cuda()\n",
        "          labels = labels.cuda()\n",
        "        #############################################\n",
        "\n",
        "\n",
        "        output = model(imgs)\n",
        "\n",
        "        # Select index with maximum prediction score\n",
        "        pred = output.max(1, keepdim=True)[1]\n",
        "        correct += pred.eq(labels.view_as(pred)).sum().item()\n",
        "        total += imgs.shape[0]\n",
        "    return correct / total\n",
        "\n",
        "def train(model, data, batch_size=64, learning_rate=0.001, num_epochs=30):\n",
        "    torch.manual_seed(1000)\n",
        "    train_loader = torch.utils.data.DataLoader(data, batch_size=batch_size, shuffle=True)\n",
        "    criterion = nn.CrossEntropyLoss()\n",
        "    optimizer = optim.Adam(model.parameters(), lr=learning_rate)\n",
        "\n",
        "    iters, losses, train_acc, val_acc = [], [], [], []\n",
        "\n",
        "    # Training\n",
        "    start_time = time.time()\n",
        "    n = 0 # the number of iterations\n",
        "    for epoch in range(num_epochs):\n",
        "        for imgs, labels in iter(train_loader):\n",
        "\n",
        "\n",
        "            #############################################\n",
        "            # To Enable GPU Usage\n",
        "            if use_cuda and torch.cuda.is_available():\n",
        "              imgs = imgs.cuda()\n",
        "              labels = labels.cuda()\n",
        "            #############################################\n",
        "\n",
        "\n",
        "            out = model(imgs)             # forward pass\n",
        "            loss = criterion(out, labels) # compute the total loss\n",
        "            loss.backward()               # backward pass (compute parameter updates)\n",
        "            optimizer.step()              # make the updates for each parameter\n",
        "            optimizer.zero_grad()         # a clean up step for PyTorch\n",
        "\n",
        "            # Save the current training information\n",
        "            iters.append(n)\n",
        "            losses.append(float(loss)/batch_size)             # compute *average* loss\n",
        "            n += 1\n",
        "        train_acc.append(get_accuracy(model, batch_size=batch_size, train=True)) # compute training accuracy\n",
        "        val_acc.append(get_accuracy(model, batch_size=batch_size, train=False))  # compute validation accuracy\n",
        "\n",
        "        # Save the current model (checkpoint) to a file\n",
        "        model_path = get_model_name(model.name, batch_size, learning_rate, epoch)\n",
        "        torch.save(model.state_dict(), model_path)\n",
        "    print('Finished Training')\n",
        "    end_time = time.time()\n",
        "    elapsed_time = end_time - start_time\n",
        "    print(\"Total time elapsed: {:.2f} seconds\".format(elapsed_time))\n",
        "\n",
        "    # Plotting\n",
        "    plt.title(\"Training Curve\")\n",
        "    plt.plot(iters, losses, label=\"Train\")\n",
        "    plt.xlabel(\"Iterations\")\n",
        "    plt.ylabel(\"Loss\")\n",
        "    plt.show()\n",
        "\n",
        "    plt.title(\"Training Curve\")\n",
        "    plt.plot(range(1 ,num_epochs+1), train_acc, label=\"Train\")\n",
        "    plt.plot(range(1 ,num_epochs+1), val_acc, label=\"Validation\")\n",
        "    plt.xlabel(\"Epochs\")\n",
        "    plt.ylabel(\"Training Accuracy\")\n",
        "    plt.legend(loc='best')\n",
        "    plt.show()\n",
        "\n",
        "    print(\"Final Training Accuracy: {}\".format(train_acc[-1]))\n",
        "    print(\"Final Validation Accuracy: {}\".format(val_acc[-1]))"
      ],
      "metadata": {
        "id": "KRfgw4Fro3_q"
      },
      "execution_count": null,
      "outputs": []
    },
    {
      "cell_type": "markdown",
      "source": [
        "Now we begin training, tuning our hyperparameters to obtain as of an accuracy as possible"
      ],
      "metadata": {
        "id": "G3NZkzz1o7tE"
      }
    },
    {
      "cell_type": "code",
      "source": [
        "baseline = TR_CNN()\n",
        "use_cuda=True\n",
        "if use_cuda and torch.cuda.is_available():\n",
        "  baseline.cuda()\n",
        "  print('USING CUDA')\n",
        "else:\n",
        "  print('NO CUDA')\n",
        "\n",
        "#begin with identical hyperparameters to our primary model\n",
        "\n",
        "train(baseline, train_dataset, batch_size=64, learning_rate=0.005, num_epochs=15)"
      ],
      "metadata": {
        "id": "QcOxdupTpCB5",
        "colab": {
          "base_uri": "https://localhost:8080/",
          "height": 1000
        },
        "outputId": "bbefbe6c-afd0-444e-85f6-dfc54092e96d"
      },
      "execution_count": null,
      "outputs": [
        {
          "output_type": "stream",
          "name": "stdout",
          "text": [
            "USING CUDA\n",
            "Finished Training\n",
            "Total time elapsed: 278.74 seconds\n"
          ]
        },
        {
          "output_type": "display_data",
          "data": {
            "text/plain": [
              "<Figure size 640x480 with 1 Axes>"
            ],
            "image/png": "[encoded data removed]"
          },
          "metadata": {}
        },
        {
          "output_type": "display_data",
          "data": {
            "text/plain": [
              "<Figure size 640x480 with 1 Axes>"
            ],
            "image/png": "[encoded data removed]"
          },
          "metadata": {}
        },
        {
          "output_type": "stream",
          "name": "stdout",
          "text": [
            "Final Training Accuracy: 1.0\n",
            "Final Validation Accuracy: 0.6833333333333333\n"
          ]
        }
      ]
    }
  ]
}